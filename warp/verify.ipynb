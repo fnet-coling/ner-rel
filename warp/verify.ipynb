{
 "cells": [
  {
   "cell_type": "code",
   "execution_count": 2,
   "metadata": {
    "collapsed": true
   },
   "outputs": [],
   "source": [
    "import json\n",
    "from collections import Counter"
   ]
  },
  {
   "cell_type": "code",
   "execution_count": 4,
   "metadata": {
    "collapsed": false
   },
   "outputs": [],
   "source": [
    "cnt =0 \n",
    "labels = Counter()\n",
    "out = open('/Users/mayk/working/figer/baseline/PLE/Intermediate/BBN/names','wb')\n",
    "for line in open('/Users/mayk/working/figer/baseline/PLE/Data/BBN/train.json','rb'):\n",
    "    sent = json.loads(line.strip('\\r\\n'))\n",
    "    toks = \" \".join(sent['tokens'])\n",
    "    toks = str(toks)\n",
    "    for m in sent['mentions']:\n",
    "        start = m['start']\n",
    "        end = m['end']\n",
    "        name = sent['tokens'][start:end]\n",
    "        out.write(\"%s %s %s %s\\n\" % (name,\";\".join(m['labels']),sent['fileid'],toks))\n",
    "out.close()\n",
    "        #for l in m['labels']:labels[l]+=1\n",
    "#print len(labels)"
   ]
  },
  {
   "cell_type": "code",
   "execution_count": 24,
   "metadata": {
    "collapsed": false,
    "scrolled": true
   },
   "outputs": [
    {
     "data": {
      "text/plain": [
       "{u'fileid': u'mz/sinorama/10/ectb_1057',\n",
       " u'mentions': [{u'end': 41,\n",
       "   u'labels': [u'/location/country',\n",
       "    u'/location',\n",
       "    u'/location/structure/government',\n",
       "    u'/location/structure'],\n",
       "   u'start': 40},\n",
       "  {u'end': 34,\n",
       "   u'labels': [u'/other/living_thing/animal',\n",
       "    u'/other',\n",
       "    u'/other/living_thing'],\n",
       "   u'start': 33},\n",
       "  {u'end': 31, u'labels': [u'/location/country', u'/location'], u'start': 30},\n",
       "  {u'end': 1,\n",
       "   u'labels': [u'/other', u'/other/art', u'/other/art/music'],\n",
       "   u'start': 0}],\n",
       " u'senid': 9,\n",
       " u'tokens': [u'If',\n",
       "  u'you',\n",
       "  u'ask',\n",
       "  u'the',\n",
       "  u'shopkeepers',\n",
       "  u'in',\n",
       "  u'the',\n",
       "  u'main',\n",
       "  u'streets',\n",
       "  u'or',\n",
       "  u'back',\n",
       "  u'alleys',\n",
       "  u',',\n",
       "  u'they',\n",
       "  u'will',\n",
       "  u'tell',\n",
       "  u'you',\n",
       "  u'that',\n",
       "  u'the',\n",
       "  u'favorite',\n",
       "  u'figure',\n",
       "  u'of',\n",
       "  u'the',\n",
       "  u'moment',\n",
       "  u'is',\n",
       "  u'the',\n",
       "  u'Maneki',\n",
       "  u'Neko',\n",
       "  u',',\n",
       "  u'or',\n",
       "  u'Japanese',\n",
       "  u'``',\n",
       "  u'beckoning',\n",
       "  u'cat',\n",
       "  u',',\n",
       "  u'``',\n",
       "  u'whose',\n",
       "  u'Chinese',\n",
       "  u'name',\n",
       "  u'is',\n",
       "  u'literally',\n",
       "  u'``',\n",
       "  u'wealth-attracting',\n",
       "  u'cat',\n",
       "  u'``',\n",
       "  u'-LRB',\n",
       "  u'--',\n",
       "  u'LRB-c-RRB-',\n",
       "  u'?',\n",
       "  u'\\xcc\\xf6',\n",
       "  u']',\n",
       "  u'o',\n",
       "  u'?',\n",
       "  u'-RRB-',\n",
       "  u'.']}"
      ]
     },
     "execution_count": 24,
     "metadata": {},
     "output_type": "execute_result"
    }
   ],
   "source": [
    "sent"
   ]
  },
  {
   "cell_type": "code",
   "execution_count": 6,
   "metadata": {
    "collapsed": true
   },
   "outputs": [],
   "source": [
    "tlabels = [line.split()[0] for line in open('/Users/mayk/working/figer/baseline/PLE/Data/OntoNotes/type_entities.txt','rb')]\n"
   ]
  },
  {
   "cell_type": "code",
   "execution_count": 7,
   "metadata": {
    "collapsed": false
   },
   "outputs": [
    {
     "data": {
      "text/plain": [
       "[u'/location/transit', u'/other/health', u'/location/geograpy']"
      ]
     },
     "execution_count": 7,
     "metadata": {},
     "output_type": "execute_result"
    }
   ],
   "source": [
    "[l for l in labels if l not in tlabels]"
   ]
  },
  {
   "cell_type": "code",
   "execution_count": null,
   "metadata": {
    "collapsed": false
   },
   "outputs": [],
   "source": [
    "[(l,labels[l]) for l in test_labels if l in labels]"
   ]
  },
  {
   "cell_type": "code",
   "execution_count": null,
   "metadata": {
    "collapsed": false
   },
   "outputs": [],
   "source": [
    "cnt =0 \n",
    "test_labels = set()\n",
    "for line in open('/Users/mayk/working/figer/baseline/PLE/Data/OntoNotes/test.json','rb'):\n",
    "    \n",
    "    sent = json.loads(line.strip('\\r\\n'))\n",
    "    for m in sent['mentions']:\n",
    "        start = m['start']\n",
    "        end = m['end']\n",
    "        name = sent['tokens'][start:end]\n",
    "        for l in m['labels']:test_labels.add(l)\n",
    "        print name,m['labels']\n",
    "print len(test_labels)"
   ]
  },
  {
   "cell_type": "code",
   "execution_count": 10,
   "metadata": {
    "collapsed": false
   },
   "outputs": [
    {
     "name": "stdout",
     "output_type": "stream",
     "text": [
      "/location/transit/bridge 23\n",
      "/other/event/accident 33\n",
      "/location/structure/sports_facility 84\n",
      "/other/product/computer 91\n",
      "/other/language/programming_language 79\n",
      "/location/geograpy/island 80\n",
      "/other/product/camera 0\n",
      "/location/structure/hotel 39\n",
      "/location/park 84\n",
      "/location/structure/hospital 80\n",
      "/other/product/mobile_phone 17\n",
      "/other/award 82\n",
      "/location/transit/railway 5\n",
      "/person/coach 68\n",
      "/other/event/sports_event 69\n"
     ]
    }
   ],
   "source": [
    "for t in tlabels:\n",
    "    if labels[t]<100:\n",
    "        print t,labels[t]"
   ]
  },
  {
   "cell_type": "code",
   "execution_count": 40,
   "metadata": {
    "collapsed": true
   },
   "outputs": [],
   "source": [
    "def convertEmbedding(vecf,df,out):\n",
    "    output =open(out,'wb')\n",
    "    dictionary =[ln.split()[0] for ln in open(df,'r')]\n",
    "    with open(vecf,'r') as embeddings:\n",
    "        head = embeddings.readline()\n",
    "        vecs = [ln.rstrip() for ln in embeddings]\n",
    "        assert(len(dictionary) == len(vecs))\n",
    "        output.write(head)\n",
    "        for i in range(len(vecs)):\n",
    "            output.write(\"%s %s\\n\" % (dictionary[i],vecs[i]))\n",
    "    output.close()"
   ]
  },
  {
   "cell_type": "code",
   "execution_count": 48,
   "metadata": {
    "collapsed": false
   },
   "outputs": [],
   "source": [
    "convertEmbedding('/Users/mayk/working/figer/baseline/PLE/Results/warp_B.txt','/Users/mayk/working/figer/baseline/PLE/Intermediate/BBN/type.txt','/Users/mayk/working/figer/baseline/PLE/Results/warp_B.bin')"
   ]
  },
  {
   "cell_type": "code",
   "execution_count": 53,
   "metadata": {
    "collapsed": true
   },
   "outputs": [],
   "source": [
    "convertEmbedding('/Users/mayk/working/figer/baseline/PLE/Results/warp_A.txt','/Users/mayk/working/figer/baseline/PLE/Intermediate/BBN/feature.txt','/Users/mayk/working/figer/baseline/PLE/Results/warp_A.bin')"
   ]
  },
  {
   "cell_type": "code",
   "execution_count": 107,
   "metadata": {
    "collapsed": true
   },
   "outputs": [],
   "source": [
    "from gensim.models import Word2Vec\n",
    "from gensim.matutils import argsort\n",
    "from numpy import array,asarray\n",
    "import numpy as np"
   ]
  },
  {
   "cell_type": "code",
   "execution_count": 49,
   "metadata": {
    "collapsed": false
   },
   "outputs": [
    {
     "name": "stderr",
     "output_type": "stream",
     "text": [
      "WARNING:gensim.models.word2vec:consider setting layer size to a multiple of 4 for greater performance\n"
     ]
    },
    {
     "name": "stdout",
     "output_type": "stream",
     "text": [
      "constructing new boss\n"
     ]
    }
   ],
   "source": [
    "model = Word2Vec.load_word2vec_format('/Users/mayk/working/figer/baseline/PLE/Results/warp_B.bin',binary=False)"
   ]
  },
  {
   "cell_type": "code",
   "execution_count": 44,
   "metadata": {
    "collapsed": false
   },
   "outputs": [
    {
     "data": {
      "text/plain": [
       "[(u'/LOCATION/REGION', 0.3768361210823059),\n",
       " (u'/GPE', 0.3453584909439087),\n",
       " (u'/LOCATION/LAKE_SEA_OCEAN', 0.14232608675956726),\n",
       " (u'/DISEASE', 0.14163753390312195),\n",
       " (u'/GPE/COUNTRY', 0.13977360725402832),\n",
       " (u'/GPE/STATE_PROVINCE', 0.13811427354812622),\n",
       " (u'/SUBSTANCE', 0.12578295171260834),\n",
       " (u'/SUBSTANCE/FOOD', 0.12021207809448242),\n",
       " (u'/ORGANIZATION/EDUCATIONAL', 0.11139184236526489),\n",
       " (u'/PRODUCT/WEAPON', 0.06789379566907883)]"
      ]
     },
     "execution_count": 44,
     "metadata": {},
     "output_type": "execute_result"
    }
   ],
   "source": [
    "model.most_similar(positive=['/LOCATION'],topn=10)"
   ]
  },
  {
   "cell_type": "code",
   "execution_count": 52,
   "metadata": {
    "collapsed": false
   },
   "outputs": [
    {
     "data": {
      "text/plain": [
       "[(u'/EVENT/HURRICANE', 0.6351652145385742),\n",
       " (u'/ORGANIZATION/HOTEL', 0.5282809734344482),\n",
       " (u'/FACILITY/BRIDGE', 0.4996044337749481),\n",
       " (u'/GAME', 0.4859156012535095),\n",
       " (u'/LOCATION/CONTINENT', 0.4805458188056946),\n",
       " (u'/WORK_OF_ART/PLAY', 0.4762874245643616),\n",
       " (u'/LOCATION/LAKE_SEA_OCEAN', 0.47475898265838623),\n",
       " (u'/FACILITY/HIGHWAY_STREET', 0.442386269569397),\n",
       " (u'/ORGANIZATION/RELIGIOUS', 0.4381697177886963),\n",
       " (u'/ANIMAL', 0.431883305311203)]"
      ]
     },
     "execution_count": 52,
     "metadata": {},
     "output_type": "execute_result"
    }
   ],
   "source": [
    "model.most_similar(positive=['/LOCATION/RIVER'],topn=10)"
   ]
  },
  {
   "cell_type": "code",
   "execution_count": 54,
   "metadata": {
    "collapsed": false
   },
   "outputs": [
    {
     "name": "stderr",
     "output_type": "stream",
     "text": [
      "WARNING:gensim.models.word2vec:consider setting layer size to a multiple of 4 for greater performance\n"
     ]
    },
    {
     "name": "stdout",
     "output_type": "stream",
     "text": [
      "constructing new boss\n"
     ]
    }
   ],
   "source": [
    "fmodel = Word2Vec.load_word2vec_format('/Users/mayk/working/figer/baseline/PLE/Results/warp_A.bin',binary=False)"
   ]
  },
  {
   "cell_type": "code",
   "execution_count": 59,
   "metadata": {
    "collapsed": false
   },
   "outputs": [
    {
     "data": {
      "text/plain": [
       "[(u'HEAD_swell', 0.8699629902839661),\n",
       " (u'TKN_wound', 0.8696989417076111),\n",
       " (u'CTXT_LEFT_steep', 0.8607642650604248),\n",
       " (u'CHAR_asm', 0.8550633788108826),\n",
       " (u'CTXT_RIGHT_Sharp', 0.8478569388389587),\n",
       " (u'TKN_cough', 0.8426043391227722),\n",
       " (u'CTXT_RIGHT_liquidity', 0.842201828956604),\n",
       " (u'BROWN_12_101110000110', 0.8409869074821472),\n",
       " (u'DEP_dep:nn:kidney=N', 0.8394829630851746),\n",
       " (u'CTXT_LEFT_GRM_it_do', 0.8394031524658203)]"
      ]
     },
     "execution_count": 59,
     "metadata": {},
     "output_type": "execute_result"
    }
   ],
   "source": [
    "fmodel.most_similar(positive=['HEAD_monster'],topn=10)"
   ]
  },
  {
   "cell_type": "code",
   "execution_count": 85,
   "metadata": {
    "collapsed": false
   },
   "outputs": [],
   "source": [
    "def read_data(fn):\n",
    "    data = []\n",
    "    with open(fn,'r') as f:\n",
    "        for ln in f:\n",
    "            data.append(map(int,ln.rstrip().split()[1].split(',')))\n",
    "    return data"
   ]
  },
  {
   "cell_type": "code",
   "execution_count": 87,
   "metadata": {
    "collapsed": false
   },
   "outputs": [],
   "source": [
    "data=read_data('/Users/mayk/working/figer/baseline/PLE/Intermediate/BBN/test_x.txt')"
   ]
  },
  {
   "cell_type": "code",
   "execution_count": 139,
   "metadata": {
    "collapsed": false
   },
   "outputs": [
    {
     "data": {
      "text/plain": [
       "[u'/GPE/CITY',\n",
       " u'/GPE',\n",
       " u'/LOCATION',\n",
       " u'/FACILITY/HIGHWAY_STREET',\n",
       " u'/LOCATION/REGION',\n",
       " u'/FACILITY/AIRPORT',\n",
       " u'/ORGANIZATION/EDUCATIONAL',\n",
       " u'/FACILITY/ATTRACTION',\n",
       " u'/FACILITY/BRIDGE',\n",
       " u'/EVENT',\n",
       " u'/FACILITY',\n",
       " u'/ORGANIZATION/MUSEUM',\n",
       " u'/LOCATION/LAKE_SEA_OCEAN',\n",
       " u'/SUBSTANCE/FOOD',\n",
       " u'/LAW',\n",
       " u'/EVENT/HURRICANE',\n",
       " u'/PRODUCT/VEHICLE',\n",
       " u'/GPE/STATE_PROVINCE',\n",
       " u'/ORGANIZATION/HOSPITAL',\n",
       " u'/ORGANIZATION/POLITICAL',\n",
       " u'/PLANT',\n",
       " u'/LOCATION/CONTINENT',\n",
       " u'/PRODUCT',\n",
       " u'/PRODUCT/WEAPON',\n",
       " u'/ORGANIZATION',\n",
       " u'/WORK_OF_ART/PLAY',\n",
       " u'/LANGUAGE',\n",
       " u'/ORGANIZATION/HOTEL',\n",
       " u'/ORGANIZATION/RELIGIOUS',\n",
       " u'/GPE/COUNTRY',\n",
       " u'/FACILITY/BUILDING',\n",
       " u'/SUBSTANCE/CHEMICAL',\n",
       " u'/DISEASE',\n",
       " u'/WORK_OF_ART/SONG',\n",
       " u'/LOCATION/RIVER',\n",
       " u'/EVENT/WAR',\n",
       " u'/WORK_OF_ART/BOOK',\n",
       " u'/ORGANIZATION/CORPORATION',\n",
       " u'/SUBSTANCE/DRUG',\n",
       " u'/CONTACT_INFO/url',\n",
       " u'/ANIMAL',\n",
       " u'/CONTACT_INFO',\n",
       " u'/GAME',\n",
       " u'/ORGANIZATION/GOVERNMENT',\n",
       " u'/PERSON',\n",
       " u'/WORK_OF_ART',\n",
       " u'/SUBSTANCE']"
      ]
     },
     "execution_count": 139,
     "metadata": {},
     "output_type": "execute_result"
    }
   ],
   "source": [
    "map(lambda x:model.index2word[x],argsort(np.dot(np.sum(fmodel.syn0norm[data[1]],axis=0),model.syn0norm.T),reverse=True))\n"
   ]
  },
  {
   "cell_type": "code",
   "execution_count": 115,
   "metadata": {
    "collapsed": false
   },
   "outputs": [
    {
     "data": {
      "text/plain": [
       "u'/PRODUCT'"
      ]
     },
     "execution_count": 115,
     "metadata": {},
     "output_type": "execute_result"
    }
   ],
   "source": [
    "import DataIO."
   ]
  },
  {
   "cell_type": "code",
   "execution_count": null,
   "metadata": {
    "collapsed": true
   },
   "outputs": [],
   "source": []
  }
 ],
 "metadata": {
  "kernelspec": {
   "display_name": "Python 2",
   "language": "python",
   "name": "python2"
  },
  "language_info": {
   "codemirror_mode": {
    "name": "ipython",
    "version": 2
   },
   "file_extension": ".py",
   "mimetype": "text/x-python",
   "name": "python",
   "nbconvert_exporter": "python",
   "pygments_lexer": "ipython2",
   "version": "2.7.10"
  }
 },
 "nbformat": 4,
 "nbformat_minor": 0
}
